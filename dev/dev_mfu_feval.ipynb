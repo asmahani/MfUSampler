{
 "cells": [
  {
   "cell_type": "code",
   "execution_count": 20,
   "id": "c03d71e7-852d-4b13-869d-cc93dfc7f579",
   "metadata": {},
   "outputs": [],
   "source": [
    "from mfusampler.main import uni_slice\n",
    "import numpy as np\n",
    "from scipy.stats import multivariate_normal\n",
    "\n",
    "def _MfU_fEval(xk, k, x, f, **kwargs):\n",
    "    x[k] = xk\n",
    "    return f(x, **kwargs)\n",
    "\n",
    "def _scalar_or_length_n(x, n):\n",
    "    nx = len(x)\n",
    "    if nx == n:\n",
    "        return x\n",
    "    elif nx == 1:\n",
    "        return np.repeat(x, n)\n",
    "    else:\n",
    "        raise ValueError(\"Input must be of length 1 or 'n'\")\n",
    "\n",
    "def MfU_control(\n",
    "    n\n",
    "    , slice_w = 1.0, slice_m = np.inf\n",
    "    , slice_lower = -np.inf, slice_upper = +np.inf\n",
    "):\n",
    "    slice_w = _scalar_or_length_n(slice_w, n)\n",
    "    slice_m = _scalar_or_length_n(slice_m, n)\n",
    "    slice_lower = _scalar_or_length_n(slice_lower, n)\n",
    "    slice_upper = _scalar_or_length_n(slice_upper, n)\n",
    "    ret = {'slice': {'w': slice_w, 'm': slice_m, 'slice_lower': slice_lower, 'slice_upper': slice_upper}}\n",
    "    return ret\n",
    "\n",
    "def MfU_sample(x, f, uni_sampler = 'slice', uni_sampler_control = None, **kwargs):\n",
    "    if uni_sampler_control is None:\n",
    "        uni_sampler_control = MfU_control(len(x))\n",
    "    pass"
   ]
  },
  {
   "cell_type": "code",
   "execution_count": 14,
   "id": "6beb853b-b6cd-4a40-8fcd-634c6b82ad1c",
   "metadata": {},
   "outputs": [
    {
     "data": {
      "text/plain": [
       "0.0851895021952265"
      ]
     },
     "execution_count": 14,
     "metadata": {},
     "output_type": "execute_result"
    }
   ],
   "source": [
    "N = 2\n",
    "x_init = np.array([0.0, 0.0])\n",
    "my_mean = np.array([1.0, -1.0])\n",
    "my_cov = np.array([[1.0, 0.0], [0.0, 1.0]])\n",
    "\n",
    "MfU_fEval(+0.5, 0, x_init, multivariate_normal.pdf, mean = my_mean, cov = my_cov)"
   ]
  },
  {
   "cell_type": "code",
   "execution_count": 16,
   "id": "3db570c5-ffb3-4bf5-84f7-ad5be31bbe69",
   "metadata": {},
   "outputs": [
    {
     "data": {
      "text/plain": [
       "numpy.ndarray"
      ]
     },
     "execution_count": 16,
     "metadata": {},
     "output_type": "execute_result"
    }
   ],
   "source": [
    "type(x_init)"
   ]
  },
  {
   "cell_type": "code",
   "execution_count": null,
   "id": "4465f5ad-a136-45f6-97f9-268e9bdab116",
   "metadata": {},
   "outputs": [],
   "source": []
  }
 ],
 "metadata": {
  "kernelspec": {
   "display_name": "Python 3 (ipykernel)",
   "language": "python",
   "name": "python3"
  },
  "language_info": {
   "codemirror_mode": {
    "name": "ipython",
    "version": 3
   },
   "file_extension": ".py",
   "mimetype": "text/x-python",
   "name": "python",
   "nbconvert_exporter": "python",
   "pygments_lexer": "ipython3",
   "version": "3.11.7"
  }
 },
 "nbformat": 4,
 "nbformat_minor": 5
}
