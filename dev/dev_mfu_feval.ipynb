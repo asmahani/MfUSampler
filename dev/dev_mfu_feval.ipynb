{
 "cells": [
  {
   "cell_type": "code",
   "execution_count": 1,
   "id": "c03d71e7-852d-4b13-869d-cc93dfc7f579",
   "metadata": {},
   "outputs": [],
   "source": [
    "from mfusampler.main import uni_slice\n",
    "import numpy as np\n",
    "from scipy.stats import multivariate_normal\n",
    "\n",
    "def _MfU_fEval(xk, k, x, fMulti, **kwargs):\n",
    "    x[k] = xk\n",
    "    return fMulti(x, **kwargs)\n",
    "\n",
    "def _scalar_or_length_n(x, n):\n",
    "    if np.isscalar(x):\n",
    "        return np.repeat(x, n)\n",
    "    elif len(x) == n:\n",
    "        return x\n",
    "    else:\n",
    "        raise ValueError(\"Input must be of length 1 or 'n'\")\n",
    "\n",
    "def MfU_control(\n",
    "    n\n",
    "    , slice_w = 1.0, slice_m = np.inf\n",
    "    , slice_lower = -np.inf, slice_upper = +np.inf\n",
    "):\n",
    "    slice_w = _scalar_or_length_n(slice_w, n)\n",
    "    slice_m = _scalar_or_length_n(slice_m, n)\n",
    "    slice_lower = _scalar_or_length_n(slice_lower, n)\n",
    "    slice_upper = _scalar_or_length_n(slice_upper, n)\n",
    "    ret = {'slice': {'w': slice_w, 'm': slice_m, 'lower': slice_lower, 'upper': slice_upper}}\n",
    "    return ret\n",
    "\n",
    "def MfU_sample(x, f, uni_sampler = 'slice', uni_sampler_control = None, **kwargs):\n",
    "    N = len(x)\n",
    "    if uni_sampler_control is None:\n",
    "        uni_sampler_control = MfU_control(N)\n",
    "    control_slice = uni_sampler_control['slice']\n",
    "    for n in range(N):\n",
    "        if uni_sampler == 'slice':\n",
    "            x[n] = uni_slice(\n",
    "                x[n], f = _MfU_fEval, k = n, x = x, fMulti = f\n",
    "                , w = control_slice['w'][n]\n",
    "                , m = control_slice['m'][n]\n",
    "                , lower = control_slice['lower'][n]\n",
    "                , upper = control_slice['upper'][n]\n",
    "                , **kwargs\n",
    "            )\n",
    "        else:\n",
    "            raise ValueError('Invalid univariate sampler')\n",
    "    return x\n",
    "\n",
    "def MfU_sample_run(x, f, uni_sampler = 'slice', uni_sampler_control = None, nsmp = 10, **kwargs):\n",
    "    xall = np.empty([nsmp, len(x)])\n",
    "    for n in range(nsmp):\n",
    "        x = MfU_sample(x, f, uni_sampler, uni_sampler_control, **kwargs)\n",
    "        xall[n, :] = x\n",
    "    return xall"
   ]
  },
  {
   "cell_type": "code",
   "execution_count": 2,
   "id": "6beb853b-b6cd-4a40-8fcd-634c6b82ad1c",
   "metadata": {},
   "outputs": [
    {
     "data": {
      "text/plain": [
       "-2.4628770664093453"
      ]
     },
     "execution_count": 2,
     "metadata": {},
     "output_type": "execute_result"
    }
   ],
   "source": [
    "x_init = np.array([0.0, 0.0])\n",
    "my_mean = np.array([1.0, -1.0])\n",
    "my_cov = np.array([[1.0, 0.0], [0.0, 1.0]])\n",
    "\n",
    "def my_multi(x, mean, cov):\n",
    "    return np.log(multivariate_normal.pdf(x, mean, cov))\n",
    "\n",
    "_MfU_fEval(+0.5, 0, x_init, my_multi, mean = my_mean, cov = my_cov)"
   ]
  },
  {
   "cell_type": "code",
   "execution_count": 3,
   "id": "4465f5ad-a136-45f6-97f9-268e9bdab116",
   "metadata": {},
   "outputs": [
    {
     "data": {
      "text/plain": [
       "{'slice': {'w': array([1., 1.]),\n",
       "  'm': array([inf, inf]),\n",
       "  'lower': array([-inf, -inf]),\n",
       "  'upper': array([inf, inf])}}"
      ]
     },
     "execution_count": 3,
     "metadata": {},
     "output_type": "execute_result"
    }
   ],
   "source": [
    "MfU_control(2)"
   ]
  },
  {
   "cell_type": "code",
   "execution_count": 4,
   "id": "00563086-2f1e-4168-bc29-aee5aff38c2c",
   "metadata": {},
   "outputs": [
    {
     "data": {
      "text/plain": [
       "array([ 0.91699845, -0.57331112])"
      ]
     },
     "execution_count": 4,
     "metadata": {},
     "output_type": "execute_result"
    }
   ],
   "source": [
    "MfU_sample(x = x_init, f = my_multi, mean = my_mean, cov = my_cov)"
   ]
  },
  {
   "cell_type": "code",
   "execution_count": 28,
   "id": "a650501b-ba8f-4e98-9f9f-ecfdc7aa9b4a",
   "metadata": {},
   "outputs": [
    {
     "name": "stdout",
     "output_type": "stream",
     "text": [
      "elapsed time: 2.71sec\n"
     ]
    }
   ],
   "source": [
    "nsmp = int(1e3)\n",
    "import time\n",
    "\n",
    "t = time.time()\n",
    "xsmp = MfU_sample_run(x = x_init, f = my_multi, mean = my_mean, cov = my_cov, nsmp = nsmp)\n",
    "t = time.time() - t\n",
    "print(f'elapsed time: {round(t, 1)}sec')"
   ]
  },
  {
   "cell_type": "code",
   "execution_count": 25,
   "id": "6dcac55c-4559-4533-92b2-bb145a4885d4",
   "metadata": {},
   "outputs": [
    {
     "data": {
      "text/plain": [
       "(array([ 1.07448362, -1.12247415]), array([ 1., -1.]))"
      ]
     },
     "execution_count": 25,
     "metadata": {},
     "output_type": "execute_result"
    }
   ],
   "source": [
    "np.mean(xsmp[(nsmp//2):, :], axis = 0), my_mean"
   ]
  },
  {
   "cell_type": "code",
   "execution_count": 24,
   "id": "d40c7fd6-086e-4d0c-9a4a-75dc29ecbfcf",
   "metadata": {},
   "outputs": [
    {
     "data": {
      "text/plain": [
       "(array([[ 0.97492063, -0.02002185],\n",
       "        [-0.02002185,  1.08088712]]),\n",
       " array([[1., 0.],\n",
       "        [0., 1.]]))"
      ]
     },
     "execution_count": 24,
     "metadata": {},
     "output_type": "execute_result"
    }
   ],
   "source": [
    "np.cov(xsmp[(nsmp//2):, :].transpose()), my_cov"
   ]
  },
  {
   "cell_type": "code",
   "execution_count": null,
   "id": "e30b29d1-8197-446d-a2a5-4ca9c91932b4",
   "metadata": {},
   "outputs": [],
   "source": []
  }
 ],
 "metadata": {
  "kernelspec": {
   "display_name": "Python 3 (ipykernel)",
   "language": "python",
   "name": "python3"
  },
  "language_info": {
   "codemirror_mode": {
    "name": "ipython",
    "version": 3
   },
   "file_extension": ".py",
   "mimetype": "text/x-python",
   "name": "python",
   "nbconvert_exporter": "python",
   "pygments_lexer": "ipython3",
   "version": "3.11.7"
  }
 },
 "nbformat": 4,
 "nbformat_minor": 5
}
