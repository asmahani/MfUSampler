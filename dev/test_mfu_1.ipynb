{
 "cells": [
  {
   "cell_type": "code",
   "execution_count": 1,
   "id": "c03d71e7-852d-4b13-869d-cc93dfc7f579",
   "metadata": {},
   "outputs": [],
   "source": [
    "from mfusampler.main import MfU_control, MfU_sample_run\n",
    "import numpy as np\n",
    "from scipy.stats import multivariate_normal"
   ]
  },
  {
   "cell_type": "code",
   "execution_count": 10,
   "id": "6beb853b-b6cd-4a40-8fcd-634c6b82ad1c",
   "metadata": {},
   "outputs": [],
   "source": [
    "N = 3\n",
    "\n",
    "x_init = np.repeat(0.0, N)\n",
    "my_mean = np.random.uniform(-3, 3, N)\n",
    "my_cov = np.diag(np.random.uniform(1, 2, N))\n",
    "\n",
    "if N == 3:\n",
    "    my_cov[0, 1] = my_cov[1, 0] = +0.3\n",
    "\n",
    "def my_multi(x, mean, cov):\n",
    "    return np.log(multivariate_normal.pdf(x, mean, cov))"
   ]
  },
  {
   "cell_type": "code",
   "execution_count": 11,
   "id": "a650501b-ba8f-4e98-9f9f-ecfdc7aa9b4a",
   "metadata": {},
   "outputs": [
    {
     "name": "stdout",
     "output_type": "stream",
     "text": [
      "elapsed time: 4.3sec\n"
     ]
    }
   ],
   "source": [
    "nsmp = int(1e3)\n",
    "import time\n",
    "\n",
    "t = time.time()\n",
    "xsmp = MfU_sample_run(x = x_init, f = my_multi, mean = my_mean, cov = my_cov, nsmp = nsmp)\n",
    "t = time.time() - t\n",
    "print(f'elapsed time: {round(t, 1)}sec')"
   ]
  },
  {
   "cell_type": "code",
   "execution_count": 12,
   "id": "6dcac55c-4559-4533-92b2-bb145a4885d4",
   "metadata": {},
   "outputs": [
    {
     "data": {
      "text/plain": [
       "(array([ 0.38531553,  2.04616806, -1.83637794]),\n",
       " array([ 0.41140346,  2.04391967, -1.81688819]))"
      ]
     },
     "execution_count": 12,
     "metadata": {},
     "output_type": "execute_result"
    }
   ],
   "source": [
    "np.mean(xsmp[(nsmp//2):, :], axis = 0), my_mean"
   ]
  },
  {
   "cell_type": "code",
   "execution_count": 13,
   "id": "d40c7fd6-086e-4d0c-9a4a-75dc29ecbfcf",
   "metadata": {},
   "outputs": [
    {
     "data": {
      "text/plain": [
       "(array([[ 1.62959205,  0.26806537,  0.09492313],\n",
       "        [ 0.26806537,  2.0967038 , -0.0378236 ],\n",
       "        [ 0.09492313, -0.0378236 ,  1.69541374]]),\n",
       " array([[1.64380154, 0.3       , 0.        ],\n",
       "        [0.3       , 1.89545278, 0.        ],\n",
       "        [0.        , 0.        , 1.67098994]]))"
      ]
     },
     "execution_count": 13,
     "metadata": {},
     "output_type": "execute_result"
    }
   ],
   "source": [
    "np.cov(xsmp[(nsmp//2):, :].transpose()), my_cov"
   ]
  },
  {
   "cell_type": "code",
   "execution_count": null,
   "id": "e30b29d1-8197-446d-a2a5-4ca9c91932b4",
   "metadata": {},
   "outputs": [],
   "source": []
  }
 ],
 "metadata": {
  "kernelspec": {
   "display_name": "Python 3 (ipykernel)",
   "language": "python",
   "name": "python3"
  },
  "language_info": {
   "codemirror_mode": {
    "name": "ipython",
    "version": 3
   },
   "file_extension": ".py",
   "mimetype": "text/x-python",
   "name": "python",
   "nbconvert_exporter": "python",
   "pygments_lexer": "ipython3",
   "version": "3.11.7"
  }
 },
 "nbformat": 4,
 "nbformat_minor": 5
}
